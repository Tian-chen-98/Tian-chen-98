{
 "cells": [
  {
   "cell_type": "code",
   "execution_count": 3,
   "metadata": {},
   "outputs": [],
   "source": [
    "import pandas as pd\n",
    "import numpy as np\n",
    "import matplotlib.pyplot as plt\n",
    "from sklearn.metrics import classification_report\n",
    "from sklearn.tree import DecisionTreeRegressor\n",
    "import sklearn.model_selection as cv\n",
    "import seaborn as sns\n",
    "from sklearn.linear_model import SGDClassifier\n",
    "from sklearn.linear_model import LogisticRegression\n",
    "from sklearn import metrics\n",
    "from sklearn.metrics import mean_squared_error as MSE\n",
    "from sklearn.model_selection import cross_val_score\n",
    "from sklearn.metrics import classification_report\n",
    "from sklearn import svm\n",
    "from sklearn.svm import SVC\n",
    "from sklearn.ensemble import RandomForestClassifier\n",
    "from sklearn.ensemble import GradientBoostingClassifier\n",
    "from sklearn.ensemble import BaggingClassifier\n",
    "from sklearn.metrics import accuracy_score\n",
    "from sklearn.ensemble import VotingClassifier"
   ]
  },
  {
   "cell_type": "markdown",
   "metadata": {},
   "source": [
    "Import Data"
   ]
  },
  {
   "cell_type": "code",
   "execution_count": 5,
   "metadata": {},
   "outputs": [
    {
     "name": "stderr",
     "output_type": "stream",
     "text": [
      "C:\\Users\\yqm\\Miniconda3\\lib\\site-packages\\IPython\\core\\interactiveshell.py:3044: DtypeWarning: Columns (15) have mixed types. Specify dtype option on import or set low_memory=False.\n",
      "  interactivity=interactivity, compiler=compiler, result=result)\n"
     ]
    }
   ],
   "source": [
    "dataset=pd.read_csv(\"Data for Cleaning & Modeling.csv\")\n",
    "hold_test=pd.read_csv(\"Holdout for Testing.csv\")"
   ]
  },
  {
   "cell_type": "code",
   "execution_count": 3,
   "metadata": {},
   "outputs": [
    {
     "data": {
      "text/plain": [
       "(400000, 32)"
      ]
     },
     "execution_count": 3,
     "metadata": {},
     "output_type": "execute_result"
    }
   ],
   "source": [
    "dataset.shape"
   ]
  },
  {
   "cell_type": "code",
   "execution_count": 7,
   "metadata": {},
   "outputs": [],
   "source": [
    "dataset.info()"
   ]
  },
  {
   "cell_type": "code",
   "execution_count": 6,
   "metadata": {},
   "outputs": [],
   "source": [
    "# update variable names\n",
    "dataset.rename(columns={ \n",
    "    'X1':'X1_InterestRate',\n",
    "    'X2':'X2_LoanID',\n",
    "    'X3':'X3_BorrowerID',\n",
    "    'X4':'X4_LoanAmtRequested',\n",
    "    'X5':'X5_LoanAmtFunded',\n",
    "    'X6':'X6_InvestorPloan',\n",
    "    'X7':'X7_NPayment',\n",
    "    'X8':'X8_LoanGrade',\n",
    "    'X9':'X9_LoanSubGrade',\n",
    "    'X10':'X10_Employer_JT',\n",
    "    'X11':'X11_YearsEmp',\n",
    "    'X12':'X12_HomeOwn',\n",
    "    'X13':'X13_Income',\n",
    "    'X14':'X14_IncomeVerified',\n",
    "    'X15':'X15_IssueDate',\n",
    "    'X16':'X16_Reason',\n",
    "    'X17':'X17_LoanCategory',\n",
    "    'X18':'X18_LoanTitle',\n",
    "    'X19':'X19_Zip',\n",
    "    'X20':'X20_BorrowerState',\n",
    "    'X21':'X21_Ratio',\n",
    "    'X22':'X22_NPastDue',\n",
    "    'X23':'X23_EarliestReportDate',\n",
    "    'X24':'X24_NInquires',\n",
    "    'X25':'X25_NMonthD',\n",
    "    'X26':'X26_NMonthP',\n",
    "    'X27':'X27_NLines',\n",
    "    'X28':'X28_NPublic',\n",
    "    'X29':'X29_TotalCreditBalance',\n",
    "    'X30':'X30_UtilizedRate',\n",
    "    'X31':'X31_NCreditLine',\n",
    "    'X32':'X32_InitialLoanStatus'\n",
    "}, inplace= True)"
   ]
  },
  {
   "cell_type": "code",
   "execution_count": 24,
   "metadata": {},
   "outputs": [
    {
     "data": {
      "text/html": [
       "<div>\n",
       "<style scoped>\n",
       "    .dataframe tbody tr th:only-of-type {\n",
       "        vertical-align: middle;\n",
       "    }\n",
       "\n",
       "    .dataframe tbody tr th {\n",
       "        vertical-align: top;\n",
       "    }\n",
       "\n",
       "    .dataframe thead th {\n",
       "        text-align: right;\n",
       "    }\n",
       "</style>\n",
       "<table border=\"1\" class=\"dataframe\">\n",
       "  <thead>\n",
       "    <tr style=\"text-align: right;\">\n",
       "      <th></th>\n",
       "      <th>X1_InterestRate</th>\n",
       "      <th>X2_LoanID</th>\n",
       "      <th>X3_BorrowerID</th>\n",
       "      <th>X4_LoanAmtRequested</th>\n",
       "      <th>X5_LoanAmtFunded</th>\n",
       "      <th>X6_InvestorPloan</th>\n",
       "      <th>X7_NPayment</th>\n",
       "      <th>X8_LoanGrade</th>\n",
       "      <th>X9_LoanSubGrade</th>\n",
       "      <th>Employer_ID</th>\n",
       "      <th>...</th>\n",
       "      <th>X23_EarliestReportDate</th>\n",
       "      <th>X24_NInquires</th>\n",
       "      <th>X25_NMonthD</th>\n",
       "      <th>X26_NMonthP</th>\n",
       "      <th>X27_NLines</th>\n",
       "      <th>X28_NPublic</th>\n",
       "      <th>X29_TotalCreditBalance</th>\n",
       "      <th>X30_UtilizedRate</th>\n",
       "      <th>X31_NCreditLine</th>\n",
       "      <th>X32_InitialLoanStatus</th>\n",
       "    </tr>\n",
       "  </thead>\n",
       "  <tbody>\n",
       "    <tr>\n",
       "      <th>0</th>\n",
       "      <td>11.89%</td>\n",
       "      <td>54734.0</td>\n",
       "      <td>80364.0</td>\n",
       "      <td>$25,000</td>\n",
       "      <td>$25,000</td>\n",
       "      <td>$19,080</td>\n",
       "      <td>36 months</td>\n",
       "      <td>B</td>\n",
       "      <td>B4</td>\n",
       "      <td>NaN</td>\n",
       "      <td>...</td>\n",
       "      <td>Feb-94</td>\n",
       "      <td>0.0</td>\n",
       "      <td>NaN</td>\n",
       "      <td>NaN</td>\n",
       "      <td>10.0</td>\n",
       "      <td>0.0</td>\n",
       "      <td>28854.0</td>\n",
       "      <td>52.10%</td>\n",
       "      <td>42.0</td>\n",
       "      <td>f</td>\n",
       "    </tr>\n",
       "    <tr>\n",
       "      <th>1</th>\n",
       "      <td>10.71%</td>\n",
       "      <td>55742.0</td>\n",
       "      <td>114426.0</td>\n",
       "      <td>$7,000</td>\n",
       "      <td>$7,000</td>\n",
       "      <td>$673</td>\n",
       "      <td>36 months</td>\n",
       "      <td>B</td>\n",
       "      <td>B5</td>\n",
       "      <td>CNN</td>\n",
       "      <td>...</td>\n",
       "      <td>Oct-00</td>\n",
       "      <td>0.0</td>\n",
       "      <td>NaN</td>\n",
       "      <td>NaN</td>\n",
       "      <td>7.0</td>\n",
       "      <td>0.0</td>\n",
       "      <td>33623.0</td>\n",
       "      <td>76.70%</td>\n",
       "      <td>7.0</td>\n",
       "      <td>f</td>\n",
       "    </tr>\n",
       "    <tr>\n",
       "      <th>2</th>\n",
       "      <td>16.99%</td>\n",
       "      <td>57167.0</td>\n",
       "      <td>137225.0</td>\n",
       "      <td>$25,000</td>\n",
       "      <td>$25,000</td>\n",
       "      <td>$24,725</td>\n",
       "      <td>36 months</td>\n",
       "      <td>D</td>\n",
       "      <td>D3</td>\n",
       "      <td>Web Programmer</td>\n",
       "      <td>...</td>\n",
       "      <td>Jun-00</td>\n",
       "      <td>0.0</td>\n",
       "      <td>41.0</td>\n",
       "      <td>NaN</td>\n",
       "      <td>10.0</td>\n",
       "      <td>0.0</td>\n",
       "      <td>19878.0</td>\n",
       "      <td>66.30%</td>\n",
       "      <td>17.0</td>\n",
       "      <td>f</td>\n",
       "    </tr>\n",
       "    <tr>\n",
       "      <th>3</th>\n",
       "      <td>13.11%</td>\n",
       "      <td>57245.0</td>\n",
       "      <td>138150.0</td>\n",
       "      <td>$1,200</td>\n",
       "      <td>$1,200</td>\n",
       "      <td>$1,200</td>\n",
       "      <td>36 months</td>\n",
       "      <td>C</td>\n",
       "      <td>C2</td>\n",
       "      <td>city of beaumont texas</td>\n",
       "      <td>...</td>\n",
       "      <td>Jan-85</td>\n",
       "      <td>0.0</td>\n",
       "      <td>64.0</td>\n",
       "      <td>NaN</td>\n",
       "      <td>5.0</td>\n",
       "      <td>0.0</td>\n",
       "      <td>2584.0</td>\n",
       "      <td>40.40%</td>\n",
       "      <td>31.0</td>\n",
       "      <td>f</td>\n",
       "    </tr>\n",
       "    <tr>\n",
       "      <th>4</th>\n",
       "      <td>13.57%</td>\n",
       "      <td>57416.0</td>\n",
       "      <td>139635.0</td>\n",
       "      <td>$10,800</td>\n",
       "      <td>$10,800</td>\n",
       "      <td>$10,692</td>\n",
       "      <td>36 months</td>\n",
       "      <td>C</td>\n",
       "      <td>C3</td>\n",
       "      <td>State Farm Insurance</td>\n",
       "      <td>...</td>\n",
       "      <td>Dec-96</td>\n",
       "      <td>1.0</td>\n",
       "      <td>58.0</td>\n",
       "      <td>NaN</td>\n",
       "      <td>14.0</td>\n",
       "      <td>0.0</td>\n",
       "      <td>3511.0</td>\n",
       "      <td>25.60%</td>\n",
       "      <td>40.0</td>\n",
       "      <td>f</td>\n",
       "    </tr>\n",
       "  </tbody>\n",
       "</table>\n",
       "<p>5 rows × 32 columns</p>\n",
       "</div>"
      ],
      "text/plain": [
       "  X1_InterestRate  X2_LoanID  X3_BorrowerID X4_LoanAmtRequested  \\\n",
       "0          11.89%    54734.0        80364.0             $25,000   \n",
       "1          10.71%    55742.0       114426.0              $7,000   \n",
       "2          16.99%    57167.0       137225.0             $25,000   \n",
       "3          13.11%    57245.0       138150.0              $1,200   \n",
       "4          13.57%    57416.0       139635.0             $10,800   \n",
       "\n",
       "  X5_LoanAmtFunded X6_InvestorPloan X7_NPayment X8_LoanGrade X9_LoanSubGrade  \\\n",
       "0          $25,000          $19,080   36 months            B              B4   \n",
       "1           $7,000             $673   36 months            B              B5   \n",
       "2          $25,000          $24,725   36 months            D              D3   \n",
       "3           $1,200           $1,200   36 months            C              C2   \n",
       "4          $10,800          $10,692   36 months            C              C3   \n",
       "\n",
       "              Employer_ID  ... X23_EarliestReportDate X24_NInquires  \\\n",
       "0                     NaN  ...                 Feb-94           0.0   \n",
       "1                     CNN  ...                 Oct-00           0.0   \n",
       "2          Web Programmer  ...                 Jun-00           0.0   \n",
       "3  city of beaumont texas  ...                 Jan-85           0.0   \n",
       "4    State Farm Insurance  ...                 Dec-96           1.0   \n",
       "\n",
       "   X25_NMonthD X26_NMonthP X27_NLines X28_NPublic X29_TotalCreditBalance  \\\n",
       "0          NaN         NaN       10.0         0.0                28854.0   \n",
       "1          NaN         NaN        7.0         0.0                33623.0   \n",
       "2         41.0         NaN       10.0         0.0                19878.0   \n",
       "3         64.0         NaN        5.0         0.0                 2584.0   \n",
       "4         58.0         NaN       14.0         0.0                 3511.0   \n",
       "\n",
       "  X30_UtilizedRate X31_NCreditLine X32_InitialLoanStatus  \n",
       "0           52.10%            42.0                     f  \n",
       "1           76.70%             7.0                     f  \n",
       "2           66.30%            17.0                     f  \n",
       "3           40.40%            31.0                     f  \n",
       "4           25.60%            40.0                     f  \n",
       "\n",
       "[5 rows x 32 columns]"
      ]
     },
     "execution_count": 24,
     "metadata": {},
     "output_type": "execute_result"
    }
   ],
   "source": [
    "dataset.head()"
   ]
  },
  {
   "cell_type": "markdown",
   "metadata": {},
   "source": [
    "# Data Cleaning"
   ]
  },
  {
   "cell_type": "markdown",
   "metadata": {},
   "source": [
    "Drop Columns with more than 50% Missing Values and less relevant variables"
   ]
  },
  {
   "cell_type": "code",
   "execution_count": 7,
   "metadata": {},
   "outputs": [
    {
     "name": "stderr",
     "output_type": "stream",
     "text": [
      "C:\\Users\\yqm\\Miniconda3\\lib\\site-packages\\ipykernel_launcher.py:2: UserWarning: Boolean Series key will be reindexed to match DataFrame index.\n",
      "  \n"
     ]
    }
   ],
   "source": [
    "dataset1=dataset[dataset['X1_InterestRate'].notnull()]\n",
    "dataset1=dataset1[dataset['X4_LoanAmtRequested'].notnull()]"
   ]
  },
  {
   "cell_type": "code",
   "execution_count": 8,
   "metadata": {},
   "outputs": [],
   "source": [
    "dataset2=dataset1.drop(['X16_Reason','X25_NMonthD','X26_NMonthP'],axis=1)\n",
    "dataset3=dataset2.drop(['X2_LoanID','X3_BorrowerID','X9_LoanSubGrade','X10_Employer_JT','X15_IssueDate','X18_LoanTitle','X19_Zip','X20_BorrowerState','X23_EarliestReportDate','X27_NLines'],axis=1)"
   ]
  },
  {
   "cell_type": "markdown",
   "metadata": {},
   "source": [
    "Data Format"
   ]
  },
  {
   "cell_type": "code",
   "execution_count": 9,
   "metadata": {},
   "outputs": [],
   "source": [
    "dataset3['X1_InterestRate']=dataset3['X1_InterestRate'].str.replace(\"[%]\",\"\")\n",
    "dataset3['X1_InterestRate']=pd.to_numeric(dataset3['X1_InterestRate'])\n",
    "dataset3['X4_LoanAmtRequested']=dataset3['X4_LoanAmtRequested'].str.replace(\"[$,]\",\"\")\n",
    "dataset3['X4_LoanAmtRequested']=pd.to_numeric(dataset3['X4_LoanAmtRequested'])\n",
    "dataset3['X5_LoanAmtFunded']=dataset3['X5_LoanAmtFunded'].str.replace(\"[$,]\",\"\")\n",
    "dataset3['X5_LoanAmtFunded']=pd.to_numeric(dataset3['X5_LoanAmtFunded'])\n",
    "dataset3['X6_InvestorPloan']=dataset3['X6_InvestorPloan'].str.replace(\"[$,]\",\"\")\n",
    "dataset3['X6_InvestorPloan']=pd.to_numeric(dataset3['X6_InvestorPloan'])\n",
    "dataset3['X13_Income']=pd.to_numeric(dataset3['X13_Income'])\n",
    "dataset3['X30_UtilizedRate']=dataset3['X30_UtilizedRate'].str.replace(\"[%]\",\"\")\n",
    "dataset3['X30_UtilizedRate']=pd.to_numeric(dataset3['X30_UtilizedRate'])"
   ]
  },
  {
   "cell_type": "markdown",
   "metadata": {},
   "source": [
    "Deal with Missing Values"
   ]
  },
  {
   "cell_type": "code",
   "execution_count": 7,
   "metadata": {},
   "outputs": [
    {
     "data": {
      "text/plain": [
       "X1_InterestRate               0\n",
       "X4_LoanAmtRequested           0\n",
       "X5_LoanAmtFunded              0\n",
       "X6_InvestorPloan              0\n",
       "X7_NPayment                   0\n",
       "X8_LoanGrade              51866\n",
       "X11_YearsEmp              14794\n",
       "X12_HomeOwn               51959\n",
       "X13_Income                51751\n",
       "X14_IncomeVerified            0\n",
       "X17_LoanCategory              0\n",
       "X21_Ratio                     0\n",
       "X22_NPastDue                  0\n",
       "X24_NInquires                 0\n",
       "X28_NPublic                   0\n",
       "X29_TotalCreditBalance        0\n",
       "X30_UtilizedRate            224\n",
       "X31_NCreditLine               0\n",
       "X32_InitialLoanStatus         0\n",
       "dtype: int64"
      ]
     },
     "execution_count": 7,
     "metadata": {},
     "output_type": "execute_result"
    }
   ],
   "source": [
    "dataset3.isnull().sum()"
   ]
  },
  {
   "cell_type": "code",
   "execution_count": 9,
   "metadata": {},
   "outputs": [
    {
     "data": {
      "text/plain": [
       "B    86121\n",
       "C    76446\n",
       "D    46984\n",
       "A    45525\n",
       "E    21628\n",
       "F     8395\n",
       "G     2024\n",
       "Name: X8_LoanGrade, dtype: int64"
      ]
     },
     "execution_count": 9,
     "metadata": {},
     "output_type": "execute_result"
    }
   ],
   "source": [
    "# X8\n",
    "dataset3['X8_LoanGrade'].value_counts()"
   ]
  },
  {
   "cell_type": "code",
   "execution_count": 10,
   "metadata": {},
   "outputs": [],
   "source": [
    "# poptentially, we can use imputation such as: \n",
    "# dataset3['X8_LoanGrade']=dataset3['X8_LoanGrade'].fillna('B')\n",
    "# however, in this case, record amount of grade B and grade C are quite close and simply imputaion all NAs to Grade B would cause bias.\n",
    "# and also, the load grade is imporant information and those records without grade also tend to lack information of HomwOwe Type\n",
    "# thus, I decied to drop all the NAs rows based on Column X8.\n",
    "dataset3=dataset3.dropna(subset=['X8_LoanGrade'])   "
   ]
  },
  {
   "cell_type": "code",
   "execution_count": 9,
   "metadata": {},
   "outputs": [
    {
     "name": "stderr",
     "output_type": "stream",
     "text": [
      "C:\\Users\\yqm\\Miniconda3\\lib\\site-packages\\seaborn\\axisgrid.py:1241: UserWarning: The `size` paramter has been renamed to `height`; please update your code.\n",
      "  warnings.warn(UserWarning(msg))\n"
     ]
    },
    {
     "data": {
      "image/png": "[encoded data removed]",
      "text/plain": [
       "<Figure size 432x432 with 1 Axes>"
      ]
     },
     "metadata": {},
     "output_type": "display_data"
    }
   ],
   "source": [
    "# X11 \n",
    "sns.set_style(\"whitegrid\")\n",
    "pl=sns.PairGrid(data=dataset3, x_vars=['X11_YearsEmp'], y_vars=['X1_InterestRate'],size=6)\n",
    "pl.map(sns.pointplot,color=sns.xkcd_rgb[\"blue\"])\n",
    "sns.despine(left=True)"
   ]
  },
  {
   "cell_type": "code",
   "execution_count": null,
   "metadata": {},
   "outputs": [],
   "source": [
    "dataset3['X11_YearsEmp'][dataset3['X11_YearsEmp'].isnull()]='Other'\n",
    "dataset3['X11_YearsEmp'][dataset3['X11_YearsEmp'].str.contains('< 1 year|1 year|2 years|3 years|4 years|5 years')]='1-5 Years'\n",
    "dataset3['X11_YearsEmp'][dataset3['X11_YearsEmp'].str.contains('6 years|7 year|8 year|9 year|10+ years')]='6-10 Year'"
   ]
  },
  {
   "cell_type": "code",
   "execution_count": 10,
   "metadata": {},
   "outputs": [
    {
     "name": "stderr",
     "output_type": "stream",
     "text": [
      "C:\\Users\\yqm\\Miniconda3\\lib\\site-packages\\seaborn\\axisgrid.py:1241: UserWarning: The `size` paramter has been renamed to `height`; please update your code.\n",
      "  warnings.warn(UserWarning(msg))\n"
     ]
    },
    {
     "data": {
      "image/png": "[encoded data removed]",
      "text/plain": [
       "<Figure size 288x288 with 1 Axes>"
      ]
     },
     "metadata": {},
     "output_type": "display_data"
    }
   ],
   "source": [
    "# X12\n",
    "sns.set_style(\"whitegrid\")\n",
    "pl=sns.PairGrid(data=dataset3, x_vars=['X12_HomeOwn'], y_vars=['X1_InterestRate'],size=4)\n",
    "pl.map(sns.pointplot,color=sns.xkcd_rgb[\"blue\"])\n",
    "sns.despine(left=True)"
   ]
  },
  {
   "cell_type": "code",
   "execution_count": 12,
   "metadata": {},
   "outputs": [
    {
     "data": {
      "text/plain": [
       "MORTGAGE    123495\n",
       "RENT         98278\n",
       "OWN          21100\n",
       "OTHER           93\n",
       "NONE            28\n",
       "ANY              1\n",
       "Name: X12_HomeOwn, dtype: int64"
      ]
     },
     "execution_count": 12,
     "metadata": {},
     "output_type": "execute_result"
    }
   ],
   "source": [
    "dataset3['X12_HomeOwn'].value_counts()"
   ]
  },
  {
   "cell_type": "code",
   "execution_count": 12,
   "metadata": {},
   "outputs": [
    {
     "name": "stderr",
     "output_type": "stream",
     "text": [
      "C:\\Users\\yqm\\Miniconda3\\lib\\site-packages\\ipykernel_launcher.py:2: SettingWithCopyWarning: \n",
      "A value is trying to be set on a copy of a slice from a DataFrame\n",
      "\n",
      "See the caveats in the documentation: http://pandas.pydata.org/pandas-docs/stable/indexing.html#indexing-view-versus-copy\n",
      "  \n"
     ]
    }
   ],
   "source": [
    "dataset3['X12_HomeOwn']=dataset3['X12_HomeOwn'].fillna('MORTGAGE')\n",
    "dataset3['X12_HomeOwn'][dataset3['X12_HomeOwn'].str.contains('OTHER|ANY|NONE')]='MORTGAGE'"
   ]
  },
  {
   "cell_type": "code",
   "execution_count": 13,
   "metadata": {},
   "outputs": [],
   "source": [
    "# X13\n",
    "dataset3['X13_Income']=dataset3['X13_Income'].fillna(dataset3['X13_Income'].mean())"
   ]
  },
  {
   "cell_type": "code",
   "execution_count": 14,
   "metadata": {},
   "outputs": [],
   "source": [
    "# X30\n",
    "dataset3['X30_UtilizedRate']=dataset3['X30_UtilizedRate'].fillna(dataset3['X30_UtilizedRate'].mean())"
   ]
  },
  {
   "cell_type": "markdown",
   "metadata": {},
   "source": [
    "Other Varible Prepping"
   ]
  },
  {
   "cell_type": "code",
   "execution_count": 15,
   "metadata": {},
   "outputs": [],
   "source": [
    "dataset4=dataset3"
   ]
  },
  {
   "cell_type": "code",
   "execution_count": 18,
   "metadata": {},
   "outputs": [
    {
     "data": {
      "text/plain": [
       " 36 months    209979\n",
       " 60 months     77144\n",
       "Name: X7_NPayment, dtype: int64"
      ]
     },
     "execution_count": 18,
     "metadata": {},
     "output_type": "execute_result"
    }
   ],
   "source": [
    "# X7\n",
    "dataset4['X7_NPayment'].value_counts()"
   ]
  },
  {
   "cell_type": "code",
   "execution_count": 19,
   "metadata": {},
   "outputs": [
    {
     "data": {
      "text/plain": [
       "VERIFIED - income           107493\n",
       "not verified                 91543\n",
       "VERIFIED - income source     88087\n",
       "Name: X14_IncomeVerified, dtype: int64"
      ]
     },
     "execution_count": 19,
     "metadata": {},
     "output_type": "execute_result"
    }
   ],
   "source": [
    "# X14\n",
    "dataset4['X14_IncomeVerified'].value_counts()"
   ]
  },
  {
   "cell_type": "code",
   "execution_count": 16,
   "metadata": {},
   "outputs": [],
   "source": [
    "dataset4['Verify']=dataset4['X14_IncomeVerified'].apply(lambda x: 0 if x=='not verified' else 1)"
   ]
  },
  {
   "cell_type": "code",
   "execution_count": 17,
   "metadata": {},
   "outputs": [],
   "source": [
    "dataset4 = dataset4.drop(['X14_IncomeVerified'],axis=1)"
   ]
  },
  {
   "cell_type": "code",
   "execution_count": 102,
   "metadata": {},
   "outputs": [
    {
     "data": {
      "text/plain": [
       "debt_consolidation    198226\n",
       "credit_card            75680\n",
       "home_improvement       19625\n",
       "other                  17154\n",
       "major_purchase          7312\n",
       "small_business          5359\n",
       "car                     4115\n",
       "medical                 3329\n",
       "moving                  2138\n",
       "wedding                 1934\n",
       "vacation                1848\n",
       "house                   1723\n",
       "educational              279\n",
       "renewable_energy         267\n",
       "Name: X17_LoanCategory, dtype: int64"
      ]
     },
     "execution_count": 102,
     "metadata": {},
     "output_type": "execute_result"
    }
   ],
   "source": [
    "# X17\n",
    "dataset4['X17_LoanCategory'].value_counts()"
   ]
  },
  {
   "cell_type": "code",
   "execution_count": 18,
   "metadata": {},
   "outputs": [
    {
     "name": "stderr",
     "output_type": "stream",
     "text": [
      "C:\\Users\\yqm\\Miniconda3\\lib\\site-packages\\ipykernel_launcher.py:1: SettingWithCopyWarning: \n",
      "A value is trying to be set on a copy of a slice from a DataFrame\n",
      "\n",
      "See the caveats in the documentation: http://pandas.pydata.org/pandas-docs/stable/indexing.html#indexing-view-versus-copy\n",
      "  \"\"\"Entry point for launching an IPython kernel.\n"
     ]
    }
   ],
   "source": [
    "dataset4['X17_LoanCategory'][dataset4['X17_LoanCategory'].str.contains('renewable_energy|educational|house|vacation|wedding|moving|medical|car|small_business')]='other'"
   ]
  },
  {
   "cell_type": "code",
   "execution_count": 61,
   "metadata": {},
   "outputs": [
    {
     "data": {
      "text/plain": [
       "f    232600\n",
       "w    106389\n",
       "Name: X32_InitialLoanStatus, dtype: int64"
      ]
     },
     "execution_count": 61,
     "metadata": {},
     "output_type": "execute_result"
    }
   ],
   "source": [
    "# X32\n",
    "dataset4['X32_InitialLoanStatus'].value_counts()"
   ]
  },
  {
   "cell_type": "code",
   "execution_count": 19,
   "metadata": {},
   "outputs": [],
   "source": [
    "dataset4['Female']=dataset4['X32_InitialLoanStatus'].apply(lambda x: 1 if x=='f' else 0)"
   ]
  },
  {
   "cell_type": "code",
   "execution_count": 20,
   "metadata": {},
   "outputs": [],
   "source": [
    "dataset4 = dataset4.drop(['X32_InitialLoanStatus'],axis=1)"
   ]
  },
  {
   "cell_type": "code",
   "execution_count": 21,
   "metadata": {},
   "outputs": [],
   "source": [
    "# Ger Dummies\n",
    "dataset4 = pd.get_dummies(dataset4)"
   ]
  },
  {
   "cell_type": "markdown",
   "metadata": {},
   "source": [
    "Correlation Check"
   ]
  },
  {
   "cell_type": "code",
   "execution_count": 104,
   "metadata": {},
   "outputs": [
    {
     "name": "stdout",
     "output_type": "stream",
     "text": [
      "<class 'pandas.core.frame.DataFrame'>\n",
      "Int64Index: 287123 entries, 0 to 399999\n",
      "Data columns (total 34 columns):\n",
      "X1_InterestRate                        287123 non-null float64\n",
      "X4_LoanAmtRequested                    287123 non-null int64\n",
      "X5_LoanAmtFunded                       287123 non-null int64\n",
      "X6_InvestorPloan                       287123 non-null int64\n",
      "X13_Income                             287123 non-null float64\n",
      "X21_Ratio                              287123 non-null float64\n",
      "X22_NPastDue                           287123 non-null float64\n",
      "X24_NInquires                          287123 non-null float64\n",
      "X28_NPublic                            287123 non-null float64\n",
      "X29_TotalCreditBalance                 287123 non-null float64\n",
      "X30_UtilizedRate                       287123 non-null float64\n",
      "X31_NCreditLine                        287123 non-null float64\n",
      "Verify                                 287123 non-null int64\n",
      "Female                                 287123 non-null int64\n",
      "X7_NPayment_ 36 months                 287123 non-null uint8\n",
      "X7_NPayment_ 60 months                 287123 non-null uint8\n",
      "X8_LoanGrade_A                         287123 non-null uint8\n",
      "X8_LoanGrade_B                         287123 non-null uint8\n",
      "X8_LoanGrade_C                         287123 non-null uint8\n",
      "X8_LoanGrade_D                         287123 non-null uint8\n",
      "X8_LoanGrade_E                         287123 non-null uint8\n",
      "X8_LoanGrade_F                         287123 non-null uint8\n",
      "X8_LoanGrade_G                         287123 non-null uint8\n",
      "X11_YearsEmp_1-5 Years                 287123 non-null uint8\n",
      "X11_YearsEmp_10+ years                 287123 non-null uint8\n",
      "X11_YearsEmp_6-10 Year                 287123 non-null uint8\n",
      "X11_YearsEmp_Other                     287123 non-null uint8\n",
      "X12_HomeOwn_MORTGAGE                   287123 non-null uint8\n",
      "X12_HomeOwn_OWN                        287123 non-null uint8\n",
      "X12_HomeOwn_RENT                       287123 non-null uint8\n",
      "X17_LoanCategory_debt_consolidation    287123 non-null uint8\n",
      "X17_LoanCategory_home_improvement      287123 non-null uint8\n",
      "X17_LoanCategory_major_purchase        287123 non-null uint8\n",
      "X17_LoanCategory_other                 287123 non-null uint8\n",
      "dtypes: float64(9), int64(5), uint8(20)\n",
      "memory usage: 38.3 MB\n"
     ]
    }
   ],
   "source": [
    "dataset4.info()"
   ]
  },
  {
   "cell_type": "code",
   "execution_count": 26,
   "metadata": {},
   "outputs": [
    {
     "data": {
      "text/plain": [
       "<matplotlib.axes._subplots.AxesSubplot at 0x1b0504989b0>"
      ]
     },
     "execution_count": 26,
     "metadata": {},
     "output_type": "execute_result"
    },
    {
     "data": {
      "image/png": "[encoded data removed]",
      "text/plain": [
       "<Figure size 432x288 with 2 Axes>"
      ]
     },
     "metadata": {
      "needs_background": "light"
     },
     "output_type": "display_data"
    }
   ],
   "source": [
    "check=dataset4.corr()\n",
    "sns.heatmap(check)\n",
    "# overall correlation is fine"
   ]
  },
  {
   "cell_type": "markdown",
   "metadata": {},
   "source": [
    "Standard"
   ]
  },
  {
   "cell_type": "code",
   "execution_count": 22,
   "metadata": {},
   "outputs": [],
   "source": [
    "from sklearn.preprocessing import StandardScaler"
   ]
  },
  {
   "cell_type": "code",
   "execution_count": 49,
   "metadata": {},
   "outputs": [
    {
     "data": {
      "text/html": [
       "<div>\n",
       "<style scoped>\n",
       "    .dataframe tbody tr th:only-of-type {\n",
       "        vertical-align: middle;\n",
       "    }\n",
       "\n",
       "    .dataframe tbody tr th {\n",
       "        vertical-align: top;\n",
       "    }\n",
       "\n",
       "    .dataframe thead th {\n",
       "        text-align: right;\n",
       "    }\n",
       "</style>\n",
       "<table border=\"1\" class=\"dataframe\">\n",
       "  <thead>\n",
       "    <tr style=\"text-align: right;\">\n",
       "      <th></th>\n",
       "      <th>X1_InterestRate</th>\n",
       "      <th>X4_LoanAmtRequested</th>\n",
       "      <th>X5_LoanAmtFunded</th>\n",
       "      <th>X6_InvestorPloan</th>\n",
       "      <th>X13_Income</th>\n",
       "      <th>X21_Ratio</th>\n",
       "      <th>X22_NPastDue</th>\n",
       "      <th>X24_NInquires</th>\n",
       "      <th>X28_NPublic</th>\n",
       "      <th>X29_TotalCreditBalance</th>\n",
       "      <th>X30_UtilizedRate</th>\n",
       "      <th>X31_NCreditLine</th>\n",
       "      <th>Verify</th>\n",
       "    </tr>\n",
       "  </thead>\n",
       "  <tbody>\n",
       "    <tr>\n",
       "      <th>count</th>\n",
       "      <td>338989.000000</td>\n",
       "      <td>338989.000000</td>\n",
       "      <td>338989.000000</td>\n",
       "      <td>338989.000000</td>\n",
       "      <td>3.389890e+05</td>\n",
       "      <td>338989.000000</td>\n",
       "      <td>338989.000000</td>\n",
       "      <td>338989.000000</td>\n",
       "      <td>338989.000000</td>\n",
       "      <td>3.389890e+05</td>\n",
       "      <td>338989.000000</td>\n",
       "      <td>338989.000000</td>\n",
       "      <td>338989.000000</td>\n",
       "    </tr>\n",
       "    <tr>\n",
       "      <th>mean</th>\n",
       "      <td>13.946289</td>\n",
       "      <td>14276.968353</td>\n",
       "      <td>14248.306140</td>\n",
       "      <td>14182.000445</td>\n",
       "      <td>7.315146e+04</td>\n",
       "      <td>16.997242</td>\n",
       "      <td>0.274286</td>\n",
       "      <td>0.817911</td>\n",
       "      <td>0.152689</td>\n",
       "      <td>1.597434e+04</td>\n",
       "      <td>56.314158</td>\n",
       "      <td>24.978309</td>\n",
       "      <td>0.681780</td>\n",
       "    </tr>\n",
       "    <tr>\n",
       "      <th>std</th>\n",
       "      <td>4.377945</td>\n",
       "      <td>8252.264104</td>\n",
       "      <td>8238.064335</td>\n",
       "      <td>8255.138412</td>\n",
       "      <td>5.172309e+04</td>\n",
       "      <td>7.697223</td>\n",
       "      <td>0.779294</td>\n",
       "      <td>1.059264</td>\n",
       "      <td>0.505363</td>\n",
       "      <td>1.976517e+04</td>\n",
       "      <td>23.746239</td>\n",
       "      <td>11.471413</td>\n",
       "      <td>0.465786</td>\n",
       "    </tr>\n",
       "    <tr>\n",
       "      <th>min</th>\n",
       "      <td>5.420000</td>\n",
       "      <td>500.000000</td>\n",
       "      <td>500.000000</td>\n",
       "      <td>0.000000</td>\n",
       "      <td>3.000000e+03</td>\n",
       "      <td>0.000000</td>\n",
       "      <td>0.000000</td>\n",
       "      <td>0.000000</td>\n",
       "      <td>0.000000</td>\n",
       "      <td>0.000000e+00</td>\n",
       "      <td>0.000000</td>\n",
       "      <td>2.000000</td>\n",
       "      <td>0.000000</td>\n",
       "    </tr>\n",
       "    <tr>\n",
       "      <th>25%</th>\n",
       "      <td>10.990000</td>\n",
       "      <td>8000.000000</td>\n",
       "      <td>8000.000000</td>\n",
       "      <td>8000.000000</td>\n",
       "      <td>4.858100e+04</td>\n",
       "      <td>11.250000</td>\n",
       "      <td>0.000000</td>\n",
       "      <td>0.000000</td>\n",
       "      <td>0.000000</td>\n",
       "      <td>6.462000e+03</td>\n",
       "      <td>39.500000</td>\n",
       "      <td>17.000000</td>\n",
       "      <td>0.000000</td>\n",
       "    </tr>\n",
       "    <tr>\n",
       "      <th>50%</th>\n",
       "      <td>13.680000</td>\n",
       "      <td>12000.000000</td>\n",
       "      <td>12000.000000</td>\n",
       "      <td>12000.000000</td>\n",
       "      <td>7.000000e+04</td>\n",
       "      <td>16.700000</td>\n",
       "      <td>0.000000</td>\n",
       "      <td>0.000000</td>\n",
       "      <td>0.000000</td>\n",
       "      <td>1.178200e+04</td>\n",
       "      <td>57.900000</td>\n",
       "      <td>23.000000</td>\n",
       "      <td>1.000000</td>\n",
       "    </tr>\n",
       "    <tr>\n",
       "      <th>75%</th>\n",
       "      <td>16.780000</td>\n",
       "      <td>20000.000000</td>\n",
       "      <td>20000.000000</td>\n",
       "      <td>19900.000000</td>\n",
       "      <td>8.200000e+04</td>\n",
       "      <td>22.500000</td>\n",
       "      <td>0.000000</td>\n",
       "      <td>1.000000</td>\n",
       "      <td>0.000000</td>\n",
       "      <td>2.023300e+04</td>\n",
       "      <td>74.900000</td>\n",
       "      <td>32.000000</td>\n",
       "      <td>1.000000</td>\n",
       "    </tr>\n",
       "    <tr>\n",
       "      <th>max</th>\n",
       "      <td>26.060000</td>\n",
       "      <td>35000.000000</td>\n",
       "      <td>35000.000000</td>\n",
       "      <td>35000.000000</td>\n",
       "      <td>7.500000e+06</td>\n",
       "      <td>39.990000</td>\n",
       "      <td>29.000000</td>\n",
       "      <td>8.000000</td>\n",
       "      <td>63.000000</td>\n",
       "      <td>2.568995e+06</td>\n",
       "      <td>892.300000</td>\n",
       "      <td>118.000000</td>\n",
       "      <td>1.000000</td>\n",
       "    </tr>\n",
       "  </tbody>\n",
       "</table>\n",
       "</div>"
      ],
      "text/plain": [
       "       X1_InterestRate  X4_LoanAmtRequested  X5_LoanAmtFunded  \\\n",
       "count    338989.000000        338989.000000     338989.000000   \n",
       "mean         13.946289         14276.968353      14248.306140   \n",
       "std           4.377945          8252.264104       8238.064335   \n",
       "min           5.420000           500.000000        500.000000   \n",
       "25%          10.990000          8000.000000       8000.000000   \n",
       "50%          13.680000         12000.000000      12000.000000   \n",
       "75%          16.780000         20000.000000      20000.000000   \n",
       "max          26.060000         35000.000000      35000.000000   \n",
       "\n",
       "       X6_InvestorPloan    X13_Income      X21_Ratio   X22_NPastDue  \\\n",
       "count     338989.000000  3.389890e+05  338989.000000  338989.000000   \n",
       "mean       14182.000445  7.315146e+04      16.997242       0.274286   \n",
       "std         8255.138412  5.172309e+04       7.697223       0.779294   \n",
       "min            0.000000  3.000000e+03       0.000000       0.000000   \n",
       "25%         8000.000000  4.858100e+04      11.250000       0.000000   \n",
       "50%        12000.000000  7.000000e+04      16.700000       0.000000   \n",
       "75%        19900.000000  8.200000e+04      22.500000       0.000000   \n",
       "max        35000.000000  7.500000e+06      39.990000      29.000000   \n",
       "\n",
       "       X24_NInquires    X28_NPublic  X29_TotalCreditBalance  X30_UtilizedRate  \\\n",
       "count  338989.000000  338989.000000            3.389890e+05     338989.000000   \n",
       "mean        0.817911       0.152689            1.597434e+04         56.314158   \n",
       "std         1.059264       0.505363            1.976517e+04         23.746239   \n",
       "min         0.000000       0.000000            0.000000e+00          0.000000   \n",
       "25%         0.000000       0.000000            6.462000e+03         39.500000   \n",
       "50%         0.000000       0.000000            1.178200e+04         57.900000   \n",
       "75%         1.000000       0.000000            2.023300e+04         74.900000   \n",
       "max         8.000000      63.000000            2.568995e+06        892.300000   \n",
       "\n",
       "       X31_NCreditLine         Verify  \n",
       "count    338989.000000  338989.000000  \n",
       "mean         24.978309       0.681780  \n",
       "std          11.471413       0.465786  \n",
       "min           2.000000       0.000000  \n",
       "25%          17.000000       0.000000  \n",
       "50%          23.000000       1.000000  \n",
       "75%          32.000000       1.000000  \n",
       "max         118.000000       1.000000  "
      ]
     },
     "execution_count": 49,
     "metadata": {},
     "output_type": "execute_result"
    }
   ],
   "source": [
    "#dataset3.describe()"
   ]
  },
  {
   "cell_type": "code",
   "execution_count": null,
   "metadata": {},
   "outputs": [],
   "source": [
    "s=StandardScaler()\n",
    "dataset4[['X4_LoanAmtRequested']]=s.fit_transform(dataset4[['X4_LoanAmtRequested']])\n",
    "dataset4[['X5_LoanAmtFunded']]=s.fit_transform(dataset4[['X5_LoanAmtFunded']])\n",
    "dataset4[['X6_InvestorPloan']]=s.fit_transform(dataset4[['X6_InvestorPloan']])\n",
    "dataset4[['X21_Ratio']]=s.fit_transform(dataset4[['X21_Ratio']])\n",
    "dataset4[['X22_NPastDue']]=s.fit_transform(dataset4[['X22_NPastDue']])\n",
    "dataset4[['X24_NInquires']]=s.fit_transform(dataset4[['X24_NInquires']])\n",
    "dataset4[['X28_NPublic']]=s.fit_transform(dataset4[['X28_NPublic']])\n",
    "dataset4[['X29_TotalCreditBalance']]=s.fit_transform(dataset4[['X29_TotalCreditBalance']])\n",
    "dataset4[['X30_UtilizedRate']]=s.fit_transform(dataset4[['X30_UtilizedRate']])\n",
    "dataset4[['X31_NCreditLine']]=s.fit_transform(dataset4[['X31_NCreditLine']])\n",
    "dataset4[['X28_NPublic']]=s.fit_transform(dataset4[['X28_NPublic']])\n",
    "\n",
    "dataset4[['X13_Income']]=s.fit_transform(dataset4[['X13_Income']])"
   ]
  },
  {
   "cell_type": "markdown",
   "metadata": {},
   "source": [
    "# Model Building"
   ]
  },
  {
   "cell_type": "code",
   "execution_count": 24,
   "metadata": {},
   "outputs": [],
   "source": [
    "from sklearn.model_selection import train_test_split\n",
    "from sklearn.model_selection import cross_val_score\n",
    "from sklearn.linear_model import SGDClassifier\n",
    "from sklearn.linear_model import LogisticRegression\n",
    "from sklearn import metrics\n",
    "from sklearn.linear_model import LinearRegression\n",
    "from sklearn.tree import DecisionTreeRegressor\n",
    "from sklearn.metrics import mean_squared_error as MSE\n",
    "from sklearn.ensemble import RandomForestRegressor\n",
    "from sklearn.ensemble import GradientBoostingRegressor"
   ]
  },
  {
   "cell_type": "code",
   "execution_count": 25,
   "metadata": {},
   "outputs": [],
   "source": [
    "x,y =dataset4.drop(['X1_InterestRate'],axis=1), dataset4['X1_InterestRate']"
   ]
  },
  {
   "cell_type": "code",
   "execution_count": 26,
   "metadata": {},
   "outputs": [],
   "source": [
    "SEED=0\n",
    "X_train, X_test, y_train, y_test = train_test_split(x, y, test_size=0.25, random_state=SEED)"
   ]
  },
  {
   "cell_type": "markdown",
   "metadata": {},
   "source": [
    "Logistics Regression"
   ]
  },
  {
   "cell_type": "code",
   "execution_count": 27,
   "metadata": {},
   "outputs": [],
   "source": [
    "lr=LinearRegression()\n",
    "lr.fit(X_train,y_train)\n",
    "lr_pred_train=lr.predict(X_train)\n",
    "lr_pred_test=lr.predict(X_test)"
   ]
  },
  {
   "cell_type": "code",
   "execution_count": 28,
   "metadata": {},
   "outputs": [
    {
     "name": "stdout",
     "output_type": "stream",
     "text": [
      "CV RMSE: 1.21\n",
      "TrainSet RMSE: 1.21\n",
      "TestSet RMSE: 1.21\n"
     ]
    }
   ],
   "source": [
    "# Compute the array containing the 10-folds CV MSEs\n",
    "lr_MSE_CV_scores_train = - cross_val_score(lr, X_train, y_train, cv=10, \n",
    "                                 scoring='neg_mean_squared_error', \n",
    "                                 n_jobs=-1) \n",
    "\n",
    "# Compute the 10-folds CV RMSE\n",
    "lr_RMSE_CV_train = (lr_MSE_CV_scores_train.mean())**(1/2)\n",
    "lr_RMSE_train = MSE(y_train, lr_pred_train)**(1/2)\n",
    "lr_RMSE_test = MSE(y_test, lr_pred_test)**(1/2)\n",
    "# Print RMSE_CV\n",
    "print('CV RMSE: {:.2f}'.format(lr_RMSE_CV_train))\n",
    "print('TrainSet RMSE: {:.2f}'.format(lr_RMSE_train))\n",
    "print('TestSet RMSE: {:.2f}'.format(lr_RMSE_test))"
   ]
  },
  {
   "cell_type": "code",
   "execution_count": 29,
   "metadata": {},
   "outputs": [
    {
     "name": "stdout",
     "output_type": "stream",
     "text": [
      "R-squared_train: 0.92\n",
      "R-squared_test: 0.92\n"
     ]
    }
   ],
   "source": [
    "lr_R2_train=lr.score(X_train, y_train)\n",
    "print('R-squared_train: {:.2f}'.format(lr_R2_train))\n",
    "lr_R2_test=lr.score(X_test, y_test)\n",
    "print('R-squared_test: {:.2f}'.format(lr_R2_test))"
   ]
  },
  {
   "cell_type": "markdown",
   "metadata": {},
   "source": [
    "Decision Tree"
   ]
  },
  {
   "cell_type": "code",
   "execution_count": 30,
   "metadata": {},
   "outputs": [],
   "source": [
    "dt = DecisionTreeRegressor(max_depth=15,\n",
    "                           min_samples_leaf=0.01,\n",
    "                           random_state=3)\n",
    "dt.fit(X_train,y_train)\n",
    "dt_pred_train=dt.predict(X_train)\n",
    "dt_pred_test=dt.predict(X_test)"
   ]
  },
  {
   "cell_type": "code",
   "execution_count": 31,
   "metadata": {},
   "outputs": [
    {
     "name": "stdout",
     "output_type": "stream",
     "text": [
      "CV RMSE: 1.23\n",
      "TrainSet RMSE: 1.23\n",
      "TestSet RMSE: 1.22\n"
     ]
    }
   ],
   "source": [
    "dt_MSE_CV_scores_train = - cross_val_score(dt, X_train, y_train, cv=10, \n",
    "                                 scoring='neg_mean_squared_error', \n",
    "                                 n_jobs=-1) \n",
    "dt_RMSE_CV_train = (dt_MSE_CV_scores_train.mean())**(1/2)\n",
    "dt_RMSE_train = MSE(y_train, dt_pred_train)**(1/2)\n",
    "dt_RMSE_test = MSE(y_test, dt_pred_test)**(1/2)\n",
    "print('CV RMSE: {:.2f}'.format(dt_RMSE_CV_train))\n",
    "print('TrainSet RMSE: {:.2f}'.format(dt_RMSE_train))\n",
    "print('TestSet RMSE: {:.2f}'.format(dt_RMSE_test))"
   ]
  },
  {
   "cell_type": "code",
   "execution_count": 32,
   "metadata": {},
   "outputs": [
    {
     "name": "stdout",
     "output_type": "stream",
     "text": [
      "R-squared_train: 0.92\n",
      "R-squared_test: 0.92\n"
     ]
    }
   ],
   "source": [
    "dt_R2_train=dt.score(X_train, y_train)\n",
    "print('R-squared_train: {:.2f}'.format(dt_R2_train))\n",
    "dt_R2_test=dt.score(X_test, y_test)\n",
    "print('R-squared_test: {:.2f}'.format(dt_R2_test))"
   ]
  },
  {
   "cell_type": "markdown",
   "metadata": {},
   "source": [
    "Random Forest"
   ]
  },
  {
   "cell_type": "code",
   "execution_count": 53,
   "metadata": {},
   "outputs": [],
   "source": [
    "rf = RandomForestRegressor(n_estimators=100,max_depth=15,\n",
    "random_state=SEED)\n",
    "# Fit 'rf' to the training set\n",
    "rf.fit(X_train, y_train)\n",
    "rf_pred_test = rf.predict(X_test)\n",
    "rf_pred_train=rf.predict(X_train)"
   ]
  },
  {
   "cell_type": "code",
   "execution_count": null,
   "metadata": {},
   "outputs": [],
   "source": [
    "rf_MSE_CV_scores_train = - cross_val_score(rf, X_train, y_train, cv=10, \n",
    "                                 scoring='neg_mean_squared_error', \n",
    "                                 n_jobs=-1) \n",
    "rf_RMSE_CV_train = (rf_MSE_CV_scores_train.mean())**(1/2)\n",
    "rf_RMSE_train = MSE(y_train, rf_pred_train)**(1/2)\n",
    "rf_RMSE_test = MSE(y_test, rf_pred_test)**(1/2)\n",
    "print('CV RMSE: {:.2f}'.format(rf_RMSE_CV_train))\n",
    "print('TrainSet RMSE: {:.2f}'.format(rf_RMSE_train))\n",
    "print('TestSet RMSE: {:.2f}'.format(rf_RMSE_test))"
   ]
  },
  {
   "cell_type": "code",
   "execution_count": 55,
   "metadata": {},
   "outputs": [
    {
     "name": "stdout",
     "output_type": "stream",
     "text": [
      "R-squared_train: 0.94\n",
      "R-squared_test: 0.93\n"
     ]
    }
   ],
   "source": [
    "rf_R2_train=rf.score(X_train, y_train)\n",
    "print('R-squared_train: {:.2f}'.format(rf_R2_train))\n",
    "rf_R2_test=rf.score(X_test, y_test)\n",
    "print('R-squared_test: {:.2f}'.format(rf_R2_test))\n",
    "# with depth_max as 20, overfitting. Thus, I asjust the parameter and run it again."
   ]
  },
  {
   "cell_type": "markdown",
   "metadata": {},
   "source": [
    "Bagging "
   ]
  },
  {
   "cell_type": "code",
   "execution_count": 56,
   "metadata": {},
   "outputs": [],
   "source": [
    "from sklearn.ensemble import BaggingRegressor\n",
    "# Instantiate a BaggingClassifier 'bc'\n",
    "bc = BaggingRegressor()\n",
    "# Fit 'bc' to the training set\n",
    "bc.fit(X_train, y_train)\n",
    "# Predict test set labels\n",
    "bc_y_pred_test = bc.predict(X_test)\n",
    "bc_y_pred_train = bc.predict(X_train)"
   ]
  },
  {
   "cell_type": "code",
   "execution_count": 57,
   "metadata": {},
   "outputs": [
    {
     "name": "stdout",
     "output_type": "stream",
     "text": [
      "R-squared_train: 0.99\n",
      "R-squared_test: 0.92\n"
     ]
    }
   ],
   "source": [
    "bc_R2_train=bc.score(X_train, y_train)\n",
    "print('R-squared_train: {:.2f}'.format(bc_R2_train))\n",
    "bc_R2_test=bc.score(X_test, y_test)\n",
    "print('R-squared_test: {:.2f}'.format(bc_R2_test))\n",
    "# overfitting occurs"
   ]
  },
  {
   "cell_type": "markdown",
   "metadata": {},
   "source": [
    "Gradient Boosting "
   ]
  },
  {
   "cell_type": "code",
   "execution_count": 27,
   "metadata": {},
   "outputs": [],
   "source": [
    "from sklearn.ensemble import GradientBoostingRegressor\n",
    "# Instantiate gb\n",
    "gb = GradientBoostingRegressor(max_depth=5,\n",
    "                               n_estimators=100,\n",
    "                               random_state=1)\n",
    "# Fit gb to the training set\n",
    "gb.fit(X_train, y_train)\n",
    "# Predict test set labels\n",
    "gb_y_pred_test = gb.predict(X_test)\n",
    "gb_y_pred_train = gb.predict(X_train)"
   ]
  },
  {
   "cell_type": "code",
   "execution_count": 28,
   "metadata": {},
   "outputs": [
    {
     "name": "stdout",
     "output_type": "stream",
     "text": [
      "R-squared_train: 0.93\n",
      "R-squared_test: 0.93\n"
     ]
    }
   ],
   "source": [
    "gb_R2_train=gb.score(X_train, y_train)\n",
    "print('R-squared_train: {:.2f}'.format(gb_R2_train))\n",
    "gb_R2_test=gb.score(X_test, y_test)\n",
    "print('R-squared_test: {:.2f}'.format(gb_R2_test))"
   ]
  },
  {
   "cell_type": "code",
   "execution_count": 42,
   "metadata": {},
   "outputs": [],
   "source": [
    "# Tune Search\n",
    "para ={'n_estimators':[50,100],'min_samples_leaf':[0.01,0.02],'max_depth':[3,4,5]}"
   ]
  },
  {
   "cell_type": "code",
   "execution_count": 40,
   "metadata": {},
   "outputs": [],
   "source": [
    "from sklearn.model_selection import GridSearchCV\n",
    "gb_search=GridSearchCV(GradientBoostingRegressor(), para, cv=2)"
   ]
  },
  {
   "cell_type": "code",
   "execution_count": 43,
   "metadata": {},
   "outputs": [],
   "source": [
    "gb_search.fit(X_train,y_train)\n",
    "gb_search.best_params_"
   ]
  },
  {
   "cell_type": "code",
   "execution_count": 33,
   "metadata": {},
   "outputs": [],
   "source": [
    "gb = GradientBoostingRegressor(max_depth=5,min_samples_leaf=0.01,\n",
    "                               n_estimators=100,\n",
    "                               random_state=1)\n",
    "# Fit gb to the training set\n",
    "gb.fit(X_train, y_train)\n",
    "# Predict test set labels\n",
    "gb_y_pred_test = gb.predict(X_test)\n",
    "gb_y_pred_train = gb.predict(X_train)"
   ]
  },
  {
   "cell_type": "code",
   "execution_count": 49,
   "metadata": {},
   "outputs": [
    {
     "name": "stdout",
     "output_type": "stream",
     "text": [
      "CV RMSE: 1.1977\n",
      "TrainSet RMSE: 1.1939\n",
      "TestSet RMSE: 1.1921\n"
     ]
    }
   ],
   "source": [
    "gb_MSE_CV_scores_train = - cross_val_score(gb, X_train, y_train, cv=3, \n",
    "                               scoring='neg_mean_squared_error', \n",
    "                                n_jobs=-1) \n",
    "gb_RMSE_CV_train = (gb_MSE_CV_scores_train.mean())**(1/2)\n",
    "gb_RMSE_train = MSE(y_train, gb_y_pred_train)**(1/2)\n",
    "gb_RMSE_test = MSE(y_test, gb_y_pred_test)**(1/2)\n",
    "print('CV RMSE: {:.4f}'.format(gb_RMSE_CV_train))\n",
    "print('TrainSet RMSE: {:.4f}'.format(gb_RMSE_train))\n",
    "print('TestSet RMSE: {:.4f}'.format(gb_RMSE_test))"
   ]
  },
  {
   "cell_type": "code",
   "execution_count": 34,
   "metadata": {},
   "outputs": [
    {
     "name": "stdout",
     "output_type": "stream",
     "text": [
      "R-squared_train: 0.93\n",
      "R-squared_test: 0.93\n"
     ]
    }
   ],
   "source": [
    "gb_R2_train=gb.score(X_train, y_train)\n",
    "print('R-squared_train: {:.2f}'.format(gb_R2_train))\n",
    "gb_R2_test=gb.score(X_test, y_test)\n",
    "print('R-squared_test: {:.2f}'.format(gb_R2_test))"
   ]
  },
  {
   "cell_type": "code",
   "execution_count": null,
   "metadata": {},
   "outputs": [],
   "source": [
    "# Compare all these models, grandient boosting does a better job than other models by achiveing high accuracy and avoide overfitting. I choose it for prediction purpose."
   ]
  },
  {
   "cell_type": "markdown",
   "metadata": {},
   "source": [
    "# Prediction"
   ]
  },
  {
   "cell_type": "code",
   "execution_count": 28,
   "metadata": {},
   "outputs": [],
   "source": [
    "hold_test=pd.read_csv(\"Holdout for Testing.csv\")"
   ]
  },
  {
   "cell_type": "code",
   "execution_count": 29,
   "metadata": {},
   "outputs": [],
   "source": [
    "hold_test.rename(columns={ \n",
    "    'X1':'X1_InterestRate',\n",
    "    'X2':'X2_LoanID',\n",
    "    'X3':'X3_BorrowerID',\n",
    "    'X4':'X4_LoanAmtRequested',\n",
    "    'X5':'X5_LoanAmtFunded',\n",
    "    'X6':'X6_InvestorPloan',\n",
    "    'X7':'X7_NPayment',\n",
    "    'X8':'X8_LoanGrade',\n",
    "    'X9':'X9_LoanSubGrade',\n",
    "    'X10':'X10_Employer_JT',\n",
    "    'X11':'X11_YearsEmp',\n",
    "    'X12':'X12_HomeOwn',\n",
    "    'X13':'X13_Income',\n",
    "    'X14':'X14_IncomeVerified',\n",
    "    'X15':'X15_IssueDate',\n",
    "    'X16':'X16_Reason',\n",
    "    'X17':'X17_LoanCategory',\n",
    "    'X18':'X18_LoanTitle',\n",
    "    'X19':'X19_Zip',\n",
    "    'X20':'X20_BorrowerState',\n",
    "    'X21':'X21_Ratio',\n",
    "    'X22':'X22_NPastDue',\n",
    "    'X23':'X23_EarliestReportDate',\n",
    "    'X24':'X24_NInquires',\n",
    "    'X25':'X25_NMonthD',\n",
    "    'X26':'X26_NMonthP',\n",
    "    'X27':'X27_NLines',\n",
    "    'X28':'X28_NPublic',\n",
    "    'X29':'X29_TotalCreditBalance',\n",
    "    'X30':'X30_UtilizedRate',\n",
    "    'X31':'X31_NCreditLine',\n",
    "    'X32':'X32_InitialLoanStatus'\n",
    "}, inplace= True)"
   ]
  },
  {
   "cell_type": "code",
   "execution_count": 30,
   "metadata": {},
   "outputs": [],
   "source": [
    "hold_test=hold_test.drop(['X1_InterestRate'],axis=1)\n",
    "hold_test=hold_test.drop(['X16_Reason','X25_NMonthD','X26_NMonthP'],axis=1)\n",
    "hold_test=hold_test.drop(['X2_LoanID','X3_BorrowerID','X9_LoanSubGrade','X10_Employer_JT','X15_IssueDate','X18_LoanTitle','X19_Zip','X20_BorrowerState','X23_EarliestReportDate','X27_NLines'],axis=1)"
   ]
  },
  {
   "cell_type": "code",
   "execution_count": 31,
   "metadata": {},
   "outputs": [],
   "source": [
    "\n",
    "hold_test['X4_LoanAmtRequested']=hold_test['X4_LoanAmtRequested'].str.replace(\"[$,]\",\"\")\n",
    "hold_test['X4_LoanAmtRequested']=pd.to_numeric(hold_test['X4_LoanAmtRequested'])\n",
    "hold_test['X5_LoanAmtFunded']=hold_test['X5_LoanAmtFunded'].str.replace(\"[$,]\",\"\")\n",
    "hold_test['X5_LoanAmtFunded']=pd.to_numeric(hold_test['X5_LoanAmtFunded'])\n",
    "hold_test['X6_InvestorPloan']=hold_test['X6_InvestorPloan'].str.replace(\"[$,]\",\"\")\n",
    "hold_test['X6_InvestorPloan']=pd.to_numeric(hold_test['X6_InvestorPloan'])\n",
    "hold_test['X13_Income']=pd.to_numeric(hold_test['X13_Income'])\n",
    "hold_test['X30_UtilizedRate']=hold_test['X30_UtilizedRate'].str.replace(\"[%]\",\"\")\n",
    "hold_test['X30_UtilizedRate']=pd.to_numeric(hold_test['X30_UtilizedRate'])"
   ]
  },
  {
   "cell_type": "code",
   "execution_count": 32,
   "metadata": {},
   "outputs": [],
   "source": [
    "hold_test=hold_test.dropna(subset=['X8_LoanGrade'])   "
   ]
  },
  {
   "cell_type": "code",
   "execution_count": null,
   "metadata": {},
   "outputs": [],
   "source": [
    "hold_test['X11_YearsEmp'][hold_test['X11_YearsEmp'].isnull()]='Other'\n",
    "hold_test['X11_YearsEmp'][hold_test['X11_YearsEmp'].str.contains('< 1 year|1 year|2 years|3 years|4 years|5 years')]='1-5 Years'\n",
    "hold_test['X11_YearsEmp'][hold_test['X11_YearsEmp'].str.contains('6 years|7 year|8 year|9 year|10+ years')]='6-10 Year'"
   ]
  },
  {
   "cell_type": "code",
   "execution_count": 34,
   "metadata": {},
   "outputs": [
    {
     "name": "stderr",
     "output_type": "stream",
     "text": [
      "C:\\Users\\yqm\\Miniconda3\\lib\\site-packages\\ipykernel_launcher.py:3: SettingWithCopyWarning: \n",
      "A value is trying to be set on a copy of a slice from a DataFrame\n",
      "\n",
      "See the caveats in the documentation: http://pandas.pydata.org/pandas-docs/stable/indexing.html#indexing-view-versus-copy\n",
      "  This is separate from the ipykernel package so we can avoid doing imports until\n"
     ]
    }
   ],
   "source": [
    "#hold_test=hold_test.drop(['X12_HomeOwn'],axis=1)\n",
    "hold_test['X12_HomeOwn']=hold_test['X12_HomeOwn'].fillna('Other')\n",
    "hold_test['X12_HomeOwn'][hold_test['X12_HomeOwn'].str.contains('OTHER|ANY|NONE')]='Other'"
   ]
  },
  {
   "cell_type": "code",
   "execution_count": 35,
   "metadata": {},
   "outputs": [],
   "source": [
    "hold_test['X30_UtilizedRate']=hold_test['X30_UtilizedRate'].fillna(hold_test['X30_UtilizedRate'].mean())"
   ]
  },
  {
   "cell_type": "code",
   "execution_count": 36,
   "metadata": {},
   "outputs": [],
   "source": [
    "hold_test['Verify']=hold_test['X14_IncomeVerified'].apply(lambda x: 0 if x=='not verified' else 1)\n",
    "hold_test = hold_test.drop(['X14_IncomeVerified'],axis=1)"
   ]
  },
  {
   "cell_type": "code",
   "execution_count": 37,
   "metadata": {},
   "outputs": [
    {
     "name": "stderr",
     "output_type": "stream",
     "text": [
      "C:\\Users\\yqm\\Miniconda3\\lib\\site-packages\\ipykernel_launcher.py:1: SettingWithCopyWarning: \n",
      "A value is trying to be set on a copy of a slice from a DataFrame\n",
      "\n",
      "See the caveats in the documentation: http://pandas.pydata.org/pandas-docs/stable/indexing.html#indexing-view-versus-copy\n",
      "  \"\"\"Entry point for launching an IPython kernel.\n"
     ]
    }
   ],
   "source": [
    "hold_test['X17_LoanCategory'][hold_test['X17_LoanCategory'].str.contains('renewable_energy|educational|house|vacation|wedding|moving|medical|car|small_business')]='other'"
   ]
  },
  {
   "cell_type": "code",
   "execution_count": 38,
   "metadata": {},
   "outputs": [],
   "source": [
    "hold_test['Female']=hold_test['X32_InitialLoanStatus'].apply(lambda x: 1 if x=='f' else 0)"
   ]
  },
  {
   "cell_type": "code",
   "execution_count": 39,
   "metadata": {},
   "outputs": [],
   "source": [
    "hold_test = hold_test.drop(['X32_InitialLoanStatus'],axis=1)\n"
   ]
  },
  {
   "cell_type": "code",
   "execution_count": 40,
   "metadata": {},
   "outputs": [],
   "source": [
    "hold_test = pd.get_dummies(hold_test)"
   ]
  },
  {
   "cell_type": "code",
   "execution_count": null,
   "metadata": {},
   "outputs": [],
   "source": [
    "s=StandardScaler()\n",
    "hold_test[['X4_LoanAmtRequested']]=s.fit_transform(hold_test[['X4_LoanAmtRequested']])\n",
    "hold_test[['X5_LoanAmtFunded']]=s.fit_transform(hold_test[['X5_LoanAmtFunded']])\n",
    "hold_test[['X6_InvestorPloan']]=s.fit_transform(hold_test[['X6_InvestorPloan']])\n",
    "hold_test[['X21_Ratio']]=s.fit_transform(hold_test[['X21_Ratio']])\n",
    "hold_test[['X22_NPastDue']]=s.fit_transform(hold_test[['X22_NPastDue']])\n",
    "hold_test[['X24_NInquires']]=s.fit_transform(hold_test[['X24_NInquires']])\n",
    "hold_test[['X28_NPublic']]=s.fit_transform(hold_test[['X28_NPublic']])\n",
    "hold_test[['X29_TotalCreditBalance']]=s.fit_transform(hold_test[['X29_TotalCreditBalance']])\n",
    "hold_test[['X30_UtilizedRate']]=s.fit_transform(hold_test[['X30_UtilizedRate']])\n",
    "hold_test[['X31_NCreditLine']]=s.fit_transform(hold_test[['X31_NCreditLine']])\n",
    "#hold_test['X28_NPublic']]=s.fit_transform(hold_test[['X28_NPublic']])\n",
    "hold_test[['X13_Income']]=s.fit_transform(hold_test[['X13_Income']])"
   ]
  },
  {
   "cell_type": "code",
   "execution_count": 42,
   "metadata": {},
   "outputs": [
    {
     "data": {
      "text/html": [
       "<div>\n",
       "<style scoped>\n",
       "    .dataframe tbody tr th:only-of-type {\n",
       "        vertical-align: middle;\n",
       "    }\n",
       "\n",
       "    .dataframe tbody tr th {\n",
       "        vertical-align: top;\n",
       "    }\n",
       "\n",
       "    .dataframe thead th {\n",
       "        text-align: right;\n",
       "    }\n",
       "</style>\n",
       "<table border=\"1\" class=\"dataframe\">\n",
       "  <thead>\n",
       "    <tr style=\"text-align: right;\">\n",
       "      <th></th>\n",
       "      <th>X4_LoanAmtRequested</th>\n",
       "      <th>X5_LoanAmtFunded</th>\n",
       "      <th>X6_InvestorPloan</th>\n",
       "      <th>X13_Income</th>\n",
       "      <th>X21_Ratio</th>\n",
       "      <th>X22_NPastDue</th>\n",
       "      <th>X24_NInquires</th>\n",
       "      <th>X28_NPublic</th>\n",
       "      <th>X29_TotalCreditBalance</th>\n",
       "      <th>X30_UtilizedRate</th>\n",
       "      <th>...</th>\n",
       "      <th>X11_YearsEmp_10+ years</th>\n",
       "      <th>X11_YearsEmp_6-10 Year</th>\n",
       "      <th>X11_YearsEmp_Other</th>\n",
       "      <th>X12_HomeOwn_MORTGAGE</th>\n",
       "      <th>X12_HomeOwn_OWN</th>\n",
       "      <th>X12_HomeOwn_RENT</th>\n",
       "      <th>X17_LoanCategory_debt_consolidation</th>\n",
       "      <th>X17_LoanCategory_home_improvement</th>\n",
       "      <th>X17_LoanCategory_major_purchase</th>\n",
       "      <th>X17_LoanCategory_other</th>\n",
       "    </tr>\n",
       "  </thead>\n",
       "  <tbody>\n",
       "    <tr>\n",
       "      <th>0</th>\n",
       "      <td>-1.101316</td>\n",
       "      <td>-1.101316</td>\n",
       "      <td>-1.101120</td>\n",
       "      <td>-0.116705</td>\n",
       "      <td>1.066280</td>\n",
       "      <td>-0.371851</td>\n",
       "      <td>0.479242</td>\n",
       "      <td>-0.366451</td>\n",
       "      <td>0.111491</td>\n",
       "      <td>0.368657</td>\n",
       "      <td>...</td>\n",
       "      <td>1</td>\n",
       "      <td>0</td>\n",
       "      <td>0</td>\n",
       "      <td>1</td>\n",
       "      <td>0</td>\n",
       "      <td>0</td>\n",
       "      <td>1</td>\n",
       "      <td>0</td>\n",
       "      <td>0</td>\n",
       "      <td>0</td>\n",
       "    </tr>\n",
       "    <tr>\n",
       "      <th>1</th>\n",
       "      <td>1.031554</td>\n",
       "      <td>1.031554</td>\n",
       "      <td>1.032158</td>\n",
       "      <td>0.573733</td>\n",
       "      <td>-0.360828</td>\n",
       "      <td>-0.371851</td>\n",
       "      <td>0.479242</td>\n",
       "      <td>-0.366451</td>\n",
       "      <td>-0.018966</td>\n",
       "      <td>-1.260254</td>\n",
       "      <td>...</td>\n",
       "      <td>0</td>\n",
       "      <td>1</td>\n",
       "      <td>0</td>\n",
       "      <td>0</td>\n",
       "      <td>0</td>\n",
       "      <td>1</td>\n",
       "      <td>1</td>\n",
       "      <td>0</td>\n",
       "      <td>0</td>\n",
       "      <td>0</td>\n",
       "    </tr>\n",
       "    <tr>\n",
       "      <th>2</th>\n",
       "      <td>2.334974</td>\n",
       "      <td>2.334974</td>\n",
       "      <td>2.335828</td>\n",
       "      <td>0.175854</td>\n",
       "      <td>1.552055</td>\n",
       "      <td>-0.371851</td>\n",
       "      <td>-0.663171</td>\n",
       "      <td>-0.366451</td>\n",
       "      <td>0.382259</td>\n",
       "      <td>-0.252286</td>\n",
       "      <td>...</td>\n",
       "      <td>1</td>\n",
       "      <td>0</td>\n",
       "      <td>0</td>\n",
       "      <td>1</td>\n",
       "      <td>0</td>\n",
       "      <td>0</td>\n",
       "      <td>1</td>\n",
       "      <td>0</td>\n",
       "      <td>0</td>\n",
       "      <td>0</td>\n",
       "    </tr>\n",
       "    <tr>\n",
       "      <th>3</th>\n",
       "      <td>-0.627345</td>\n",
       "      <td>-0.627345</td>\n",
       "      <td>-0.627058</td>\n",
       "      <td>-0.734329</td>\n",
       "      <td>1.606676</td>\n",
       "      <td>-0.371851</td>\n",
       "      <td>0.479242</td>\n",
       "      <td>1.243261</td>\n",
       "      <td>-0.357198</td>\n",
       "      <td>-0.511720</td>\n",
       "      <td>...</td>\n",
       "      <td>1</td>\n",
       "      <td>0</td>\n",
       "      <td>0</td>\n",
       "      <td>0</td>\n",
       "      <td>0</td>\n",
       "      <td>1</td>\n",
       "      <td>1</td>\n",
       "      <td>0</td>\n",
       "      <td>0</td>\n",
       "      <td>0</td>\n",
       "    </tr>\n",
       "    <tr>\n",
       "      <th>4</th>\n",
       "      <td>1.031554</td>\n",
       "      <td>1.031554</td>\n",
       "      <td>1.032158</td>\n",
       "      <td>0.118967</td>\n",
       "      <td>1.382382</td>\n",
       "      <td>-0.371851</td>\n",
       "      <td>-0.663171</td>\n",
       "      <td>-0.366451</td>\n",
       "      <td>0.658000</td>\n",
       "      <td>-0.618046</td>\n",
       "      <td>...</td>\n",
       "      <td>1</td>\n",
       "      <td>0</td>\n",
       "      <td>0</td>\n",
       "      <td>1</td>\n",
       "      <td>0</td>\n",
       "      <td>0</td>\n",
       "      <td>1</td>\n",
       "      <td>0</td>\n",
       "      <td>0</td>\n",
       "      <td>0</td>\n",
       "    </tr>\n",
       "  </tbody>\n",
       "</table>\n",
       "<p>5 rows × 33 columns</p>\n",
       "</div>"
      ],
      "text/plain": [
       "   X4_LoanAmtRequested  X5_LoanAmtFunded  X6_InvestorPloan  X13_Income  \\\n",
       "0            -1.101316         -1.101316         -1.101120   -0.116705   \n",
       "1             1.031554          1.031554          1.032158    0.573733   \n",
       "2             2.334974          2.334974          2.335828    0.175854   \n",
       "3            -0.627345         -0.627345         -0.627058   -0.734329   \n",
       "4             1.031554          1.031554          1.032158    0.118967   \n",
       "\n",
       "   X21_Ratio  X22_NPastDue  X24_NInquires  X28_NPublic  \\\n",
       "0   1.066280     -0.371851       0.479242    -0.366451   \n",
       "1  -0.360828     -0.371851       0.479242    -0.366451   \n",
       "2   1.552055     -0.371851      -0.663171    -0.366451   \n",
       "3   1.606676     -0.371851       0.479242     1.243261   \n",
       "4   1.382382     -0.371851      -0.663171    -0.366451   \n",
       "\n",
       "   X29_TotalCreditBalance  X30_UtilizedRate  ...  X11_YearsEmp_10+ years  \\\n",
       "0                0.111491          0.368657  ...                       1   \n",
       "1               -0.018966         -1.260254  ...                       0   \n",
       "2                0.382259         -0.252286  ...                       1   \n",
       "3               -0.357198         -0.511720  ...                       1   \n",
       "4                0.658000         -0.618046  ...                       1   \n",
       "\n",
       "   X11_YearsEmp_6-10 Year  X11_YearsEmp_Other  X12_HomeOwn_MORTGAGE  \\\n",
       "0                       0                   0                     1   \n",
       "1                       1                   0                     0   \n",
       "2                       0                   0                     1   \n",
       "3                       0                   0                     0   \n",
       "4                       0                   0                     1   \n",
       "\n",
       "   X12_HomeOwn_OWN  X12_HomeOwn_RENT  X17_LoanCategory_debt_consolidation  \\\n",
       "0                0                 0                                    1   \n",
       "1                0                 1                                    1   \n",
       "2                0                 0                                    1   \n",
       "3                0                 1                                    1   \n",
       "4                0                 0                                    1   \n",
       "\n",
       "   X17_LoanCategory_home_improvement  X17_LoanCategory_major_purchase  \\\n",
       "0                                  0                                0   \n",
       "1                                  0                                0   \n",
       "2                                  0                                0   \n",
       "3                                  0                                0   \n",
       "4                                  0                                0   \n",
       "\n",
       "   X17_LoanCategory_other  \n",
       "0                       0  \n",
       "1                       0  \n",
       "2                       0  \n",
       "3                       0  \n",
       "4                       0  \n",
       "\n",
       "[5 rows x 33 columns]"
      ]
     },
     "execution_count": 42,
     "metadata": {},
     "output_type": "execute_result"
    }
   ],
   "source": [
    "hold_test.head()"
   ]
  },
  {
   "cell_type": "code",
   "execution_count": 43,
   "metadata": {},
   "outputs": [],
   "source": [
    "gb_hold_pred = gb.predict(hold_test)"
   ]
  },
  {
   "cell_type": "code",
   "execution_count": 44,
   "metadata": {},
   "outputs": [],
   "source": [
    "gb_hold_pred_divideBy100=gb_hold_pred/100"
   ]
  },
  {
   "cell_type": "code",
   "execution_count": 45,
   "metadata": {},
   "outputs": [],
   "source": [
    "hold_test_copy=pd.read_csv(\"Holdout for Testing.csv\")\n",
    "result=pd.DataFrame({\n",
    "    'LoanID': hold_test_copy['X2'],\n",
    "    'PredictedInterestRate':gb_hold_pred,\n",
    "    'PredictedInterestConversion':gb_hold_pred_divideBy100\n",
    "})"
   ]
  },
  {
   "cell_type": "code",
   "execution_count": 46,
   "metadata": {},
   "outputs": [
    {
     "data": {
      "text/html": [
       "<div>\n",
       "<style scoped>\n",
       "    .dataframe tbody tr th:only-of-type {\n",
       "        vertical-align: middle;\n",
       "    }\n",
       "\n",
       "    .dataframe tbody tr th {\n",
       "        vertical-align: top;\n",
       "    }\n",
       "\n",
       "    .dataframe thead th {\n",
       "        text-align: right;\n",
       "    }\n",
       "</style>\n",
       "<table border=\"1\" class=\"dataframe\">\n",
       "  <thead>\n",
       "    <tr style=\"text-align: right;\">\n",
       "      <th></th>\n",
       "      <th>LoanID</th>\n",
       "      <th>PredictedInterestRate</th>\n",
       "      <th>PredictedInterestConversion</th>\n",
       "    </tr>\n",
       "  </thead>\n",
       "  <tbody>\n",
       "    <tr>\n",
       "      <th>0</th>\n",
       "      <td>44409194</td>\n",
       "      <td>15.006856</td>\n",
       "      <td>0.150069</td>\n",
       "    </tr>\n",
       "    <tr>\n",
       "      <th>1</th>\n",
       "      <td>44017917</td>\n",
       "      <td>7.323703</td>\n",
       "      <td>0.073237</td>\n",
       "    </tr>\n",
       "    <tr>\n",
       "      <th>2</th>\n",
       "      <td>44259158</td>\n",
       "      <td>14.294381</td>\n",
       "      <td>0.142944</td>\n",
       "    </tr>\n",
       "    <tr>\n",
       "      <th>3</th>\n",
       "      <td>44429213</td>\n",
       "      <td>17.564649</td>\n",
       "      <td>0.175646</td>\n",
       "    </tr>\n",
       "    <tr>\n",
       "      <th>4</th>\n",
       "      <td>44299188</td>\n",
       "      <td>11.489138</td>\n",
       "      <td>0.114891</td>\n",
       "    </tr>\n",
       "  </tbody>\n",
       "</table>\n",
       "</div>"
      ],
      "text/plain": [
       "     LoanID  PredictedInterestRate  PredictedInterestConversion\n",
       "0  44409194              15.006856                     0.150069\n",
       "1  44017917               7.323703                     0.073237\n",
       "2  44259158              14.294381                     0.142944\n",
       "3  44429213              17.564649                     0.175646\n",
       "4  44299188              11.489138                     0.114891"
      ]
     },
     "execution_count": 46,
     "metadata": {},
     "output_type": "execute_result"
    }
   ],
   "source": [
    "result.head()"
   ]
  },
  {
   "cell_type": "code",
   "execution_count": 47,
   "metadata": {},
   "outputs": [],
   "source": [
    "result.to_csv('Loans from WeihuangXie.csv',index=False)"
   ]
  },
  {
   "cell_type": "markdown",
   "metadata": {},
   "source": [
    "Summary: \n",
    "By cmparing all 5 models, grandient boosting does a better job than other models by achiveing high accuracy and avoide overfitting. I choose it for prediction purpose.This model performs well in terms of RMSE and R-square while more works could be done interms of data cleaning and variable selection. It also shows that linear regression models performs relatively poorly than the others because the datapoints are not perfectly linear. "
   ]
  }
 ],
 "metadata": {
  "kernelspec": {
   "display_name": "Python 3",
   "language": "python",
   "name": "python3"
  },
  "language_info": {
   "codemirror_mode": {
    "name": "ipython",
    "version": 3
   },
   "file_extension": ".py",
   "mimetype": "text/x-python",
   "name": "python",
   "nbconvert_exporter": "python",
   "pygments_lexer": "ipython3",
   "version": "3.6.8"
  }
 },
 "nbformat": 4,
 "nbformat_minor": 2
}
